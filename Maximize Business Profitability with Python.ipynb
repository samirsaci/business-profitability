{
 "cells": [
  {
   "cell_type": "code",
   "execution_count": 2,
   "metadata": {
    "collapsed": true
   },
   "outputs": [],
   "source": [
    "import pandas as pd\n",
    "from pulp import *"
   ]
  },
  {
   "attachments": {
    "image.png": {
     "image/png": "[encoded data removed]"
    }
   },
   "cell_type": "markdown",
   "metadata": {},
   "source": [
    "### Business Profitability Problem\n",
    "![image.png](attachment:image.png)"
   ]
  },
  {
   "cell_type": "markdown",
   "metadata": {},
   "source": [
    "### Parameters"
   ]
  },
  {
   "cell_type": "code",
   "execution_count": 3,
   "metadata": {},
   "outputs": [],
   "source": [
    "# Optimize your Bakery Model \n",
    "\n",
    "# Parameters \n",
    "items = [\"A\", \"B\", \"C\", \"D\", \"E\", \"F\"]\n",
    "profit = {\"A\":6, \"B\":4.4, \"C\":7.5, \"D\":0.9, \"E\":1.2, \"F\":2.2}\n",
    "baker = {\"A\":50, \"B\":0, \"C\":45, \"D\":35, \"E\":25, \"F\":0}\n",
    "oven = {\"A\":45, \"B\":0, \"C\":90, \"D\":20, \"E\":45, \"F\":0}\n",
    "display = {\"A\":4, \"B\":1.5, \"C\":3, \"D\":1, \"E\":1, \"F\":1}\n",
    "assist = {\"A\":0, \"B\":12, \"C\":0, \"D\":0, \"E\":0, \"F\":8}"
   ]
  },
  {
   "cell_type": "markdown",
   "metadata": {},
   "source": [
    "### Initialize Linear Optimization Problem"
   ]
  },
  {
   "cell_type": "code",
   "execution_count": 4,
   "metadata": {},
   "outputs": [
    {
     "name": "stderr",
     "output_type": "stream",
     "text": [
      "C:\\Users\\Samir\\Anaconda3\\lib\\site-packages\\pulp\\pulp.py:1199: UserWarning: Spaces are not permitted in the name. Converted to '_'\n",
      "  warnings.warn(\"Spaces are not permitted in the name. Converted to '_'\")\n"
     ]
    }
   ],
   "source": [
    "# Initiliaze Class\n",
    "model = LpProblem('Maximize Bakery Profits', LpMaximize)\n",
    "\n",
    "# 2. Define Decision Variables\n",
    "A = LpVariable('A', lowBound = 0, cat = 'Integer')\n",
    "B = LpVariable('B', lowBound = 0, cat = 'Integer')\n",
    "C = LpVariable('C', lowBound = 0, cat = 'Integer')\n",
    "D = LpVariable('D', lowBound = 0, cat = 'Integer')\n",
    "E = LpVariable('E', lowBound = 0, cat = 'Integer')\n",
    "F = LpVariable('F', lowBound = 0, cat = 'Integer')\n",
    "var_dict = {\"A\":A, \"B\":B, \"C\":C, \"D\":D, \"E\":E, \"F\":F}"
   ]
  },
  {
   "cell_type": "markdown",
   "metadata": {},
   "source": [
    "### Add Objective Function"
   ]
  },
  {
   "cell_type": "code",
   "execution_count": 5,
   "metadata": {
    "collapsed": true
   },
   "outputs": [],
   "source": [
    "# Define Objective Function\n",
    "model += lpSum([profit[i] * var_dict[i] for i in items])"
   ]
  },
  {
   "cell_type": "markdown",
   "metadata": {},
   "source": [
    "### Add Constraints"
   ]
  },
  {
   "cell_type": "code",
   "execution_count": 6,
   "metadata": {
    "collapsed": true
   },
   "outputs": [],
   "source": [
    "# 4. Define Constraints \n",
    "# Bakers\n",
    "model += lpSum([var_dict[i]*baker[i] for i in items]) <= 24*60\n",
    "# Oven\n",
    "model += lpSum([var_dict[i]*oven[i] for i in items]) <= 48*60\n",
    "# Assistant\n",
    "model += lpSum([var_dict[i]*assist[i] for i in items]) <= 4*60\n",
    "# Display\n",
    "model += lpSum([var_dict[i]*display[i] for i in items]) <= 100"
   ]
  },
  {
   "cell_type": "markdown",
   "metadata": {},
   "source": [
    "### Solve the model"
   ]
  },
  {
   "cell_type": "code",
   "execution_count": 7,
   "metadata": {},
   "outputs": [
    {
     "name": "stdout",
     "output_type": "stream",
     "text": [
      "Lemon Cake = 0\n",
      "Sandwich = 20\n",
      "Chocolate Cake = 23\n",
      "Croissant = 0\n",
      "Chocolate Eclair = 1\n",
      "Panini = 0\n",
      "1,060.0/1,440 minutes of bakers used\n",
      "2,115.0/2,880 minutes of oven used\n",
      "240.0/240 minutes of assistant used\n",
      "100.0/200 display slots\n",
      "Profit reached: 261.7 euros\n"
     ]
    }
   ],
   "source": [
    "# Names\n",
    "dict_name = dict(zip([\"A\", \"B\", \"C\", \"D\", \"E\", \"F\"], \n",
    "                     [\"Lemon Cake\", \"Sandwich\", \"Chocolate Cake\", \"Croissant\", \"Chocolate Eclair\", \"Panini\"]))\n",
    "\n",
    "# Solve Model\n",
    "model.solve()\n",
    "for v in model.variables():\n",
    "    print(dict_name[v.name], \"=\", int(v.varValue))\n",
    "print(\"{:,}/{:,} minutes of bakers used\".format(sum([var_dict[i].varValue*baker[i] for i in items]), 24*60))\n",
    "print(\"{:,}/{:,} minutes of oven used\".format(sum([var_dict[i].varValue*oven[i] for i in items]), 48*60))\n",
    "print(\"{:,}/{:,} minutes of assistant used\".format(sum([var_dict[i].varValue*assist[i] for i in items]), 4*60))\n",
    "print(\"{:,}/{:,} display slots\".format(sum([var_dict[i].varValue*display[i] for i in items]), 200))\n",
    "print(\"Profit reached: {:,} euros\".format(sum(var_dict[i].varValue * profit[i] for i in items)))"
   ]
  },
  {
   "cell_type": "code",
   "execution_count": null,
   "metadata": {
    "collapsed": true
   },
   "outputs": [],
   "source": []
  }
 ],
 "metadata": {
  "kernelspec": {
   "display_name": "Python 3",
   "language": "python",
   "name": "python3"
  },
  "language_info": {
   "codemirror_mode": {
    "name": "ipython",
    "version": 3
   },
   "file_extension": ".py",
   "mimetype": "text/x-python",
   "name": "python",
   "nbconvert_exporter": "python",
   "pygments_lexer": "ipython3",
   "version": "3.6.1"
  }
 },
 "nbformat": 4,
 "nbformat_minor": 2
}
